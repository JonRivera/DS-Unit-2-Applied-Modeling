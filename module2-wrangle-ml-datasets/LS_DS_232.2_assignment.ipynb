{
 "cells": [
  {
   "cell_type": "markdown",
   "metadata": {
    "colab_type": "text",
    "id": "pXZTVgldUh9Q"
   },
   "source": [
    "Lambda School Data Science\n",
    "\n",
    "*Unit 2, Sprint 3, Module 1*\n",
    "\n",
    "---\n",
    "#\n",
    "\n",
    "\n",
    "# Define ML problems\n",
    "\n",
    "You will use your portfolio project dataset for all assignments this sprint.\n",
    "\n",
    "## Assignment\n",
    "\n",
    "Complete these tasks for your project, and document your decisions.\n",
    "\n",
    "- [ ] Choose your target. Which column in your tabular dataset will you predict? X \n",
    "- [ ] Is your problem regression or classification? Classification X \n",
    "- [ ] How is your target distributed?\n",
    "    - Classification: How many classes? Are the classes imbalanced? Yes, the classes are imbalanced\n",
    "    \n",
    "    - Regression: Is the target right-skewed? If so, you may want to log transform the target.\n",
    "- [ ] Choose your evaluation metric(s).\n",
    "    - Classification: Is your majority class frequency >= 50% and < 70% ? If so, you can just use accuracy if you want. Outside that range, accuracy could be misleading. What evaluation metric will you choose, in addition to or instead of accuracy?\n",
    "    - Regression: Will you use mean absolute error, root mean squared error, R^2, or other regression metrics?\n",
    "- [ ] Choose which observations you will use to train, validate, and test your model.\n",
    "    - Are some observations outliers? Will you exclude them?\n",
    "    - Will you do a random split or a time-based split?\n",
    "- [ ] Begin to clean and explore your data.\n",
    "- [ ] Begin to choose which features, if any, to exclude. Would some features \"leak\" future information?\n",
    "\n",
    "If you haven't found a dataset yet, do that today. [Review requirements for your portfolio project](https://lambdaschool.github.io/ds/unit2) and choose your dataset.\n",
    "\n",
    "Some students worry, ***what if my model isn't “good”?*** Then, [produce a detailed tribute to your wrongness. That is science!](https://twitter.com/nathanwpyle/status/1176860147223867393)"
   ]
  },
  {
   "cell_type": "code",
   "execution_count": 383,
   "metadata": {},
   "outputs": [
    {
     "name": "stdout",
     "output_type": "stream",
     "text": [
      "Requirement already up-to-date: scikit-learn in /Users/johnrivera/.virtualenvs/jupyter/lib/python3.7/site-packages (0.23.1)\n",
      "Requirement already satisfied, skipping upgrade: scipy>=0.19.1 in /Users/johnrivera/.virtualenvs/jupyter/lib/python3.7/site-packages (from scikit-learn) (1.5.1)\n",
      "Requirement already satisfied, skipping upgrade: threadpoolctl>=2.0.0 in /Users/johnrivera/.virtualenvs/jupyter/lib/python3.7/site-packages (from scikit-learn) (2.1.0)\n",
      "Requirement already satisfied, skipping upgrade: numpy>=1.13.3 in /Users/johnrivera/.virtualenvs/jupyter/lib/python3.7/site-packages (from scikit-learn) (1.19.0)\n",
      "Requirement already satisfied, skipping upgrade: joblib>=0.11 in /Users/johnrivera/.virtualenvs/jupyter/lib/python3.7/site-packages (from scikit-learn) (0.16.0)\n",
      "Name: scikit-learn\n",
      "Version: 0.23.1\n",
      "Summary: A set of python modules for machine learning and data mining\n",
      "Home-page: http://scikit-learn.org\n",
      "Author: None\n",
      "Author-email: None\n",
      "License: new BSD\n",
      "Location: /Users/johnrivera/.virtualenvs/jupyter/lib/python3.7/site-packages\n",
      "Requires: scipy, numpy, joblib, threadpoolctl\n",
      "Required-by: sklearn, category-encoders\n"
     ]
    }
   ],
   "source": [
    "#library versions\n",
    "!pip install -U scikit-learn\n",
    "!python -m pip show scikit-learn\n"
   ]
  },
  {
   "cell_type": "code",
   "execution_count": 384,
   "metadata": {},
   "outputs": [],
   "source": [
    "#instantiate classes"
   ]
  },
  {
   "cell_type": "code",
   "execution_count": 385,
   "metadata": {},
   "outputs": [],
   "source": [
    "#importing data\n",
    "import pandas as pd\n",
    "df = pd.read_csv(\"https://raw.githubusercontent.com/JonRivera/JonRivera.github.io/master/Unit2/Buil_Week/Data_Sets/Hotel_Bookings/hotel_bookings.csv\")"
   ]
  },
  {
   "cell_type": "code",
   "execution_count": 386,
   "metadata": {
    "colab": {
     "base_uri": "https://localhost:8080/",
     "height": 578
    },
    "colab_type": "code",
    "executionInfo": {
     "elapsed": 2293,
     "status": "ok",
     "timestamp": 1595132335247,
     "user": {
      "displayName": "Jon Rivera",
      "photoUrl": "",
      "userId": "04289059324986777864"
     },
     "user_tz": 420
    },
    "id": "ha2oylUS80fu",
    "outputId": "db372f71-2158-475d-bb11-a9cb9a7c7bd4"
   },
   "outputs": [
    {
     "data": {
      "text/plain": [
       "hotel                                  0\n",
       "is_canceled                            0\n",
       "lead_time                              0\n",
       "arrival_date_year                      0\n",
       "arrival_date_month                     0\n",
       "arrival_date_week_number               0\n",
       "arrival_date_day_of_month              0\n",
       "stays_in_weekend_nights                0\n",
       "stays_in_week_nights                   0\n",
       "adults                                 0\n",
       "children                               4\n",
       "babies                                 0\n",
       "meal                                   0\n",
       "country                              488\n",
       "market_segment                         0\n",
       "distribution_channel                   0\n",
       "is_repeated_guest                      0\n",
       "previous_cancellations                 0\n",
       "previous_bookings_not_canceled         0\n",
       "reserved_room_type                     0\n",
       "assigned_room_type                     0\n",
       "booking_changes                        0\n",
       "deposit_type                           0\n",
       "agent                              16340\n",
       "company                           112593\n",
       "days_in_waiting_list                   0\n",
       "customer_type                          0\n",
       "adr                                    0\n",
       "required_car_parking_spaces            0\n",
       "total_of_special_requests              0\n",
       "reservation_status                     0\n",
       "reservation_status_date                0\n",
       "dtype: int64"
      ]
     },
     "execution_count": 386,
     "metadata": {},
     "output_type": "execute_result"
    }
   ],
   "source": [
    "df.isnull().sum()"
   ]
  },
  {
   "cell_type": "code",
   "execution_count": 387,
   "metadata": {
    "colab": {
     "base_uri": "https://localhost:8080/",
     "height": 680
    },
    "colab_type": "code",
    "executionInfo": {
     "elapsed": 2267,
     "status": "ok",
     "timestamp": 1595132335249,
     "user": {
      "displayName": "Jon Rivera",
      "photoUrl": "",
      "userId": "04289059324986777864"
     },
     "user_tz": 420
    },
    "id": "ml2_py5btxk1",
    "outputId": "39f798e4-e159-4bab-8278-801ee64c6759"
   },
   "outputs": [
    {
     "name": "stdout",
     "output_type": "stream",
     "text": [
      "<class 'pandas.core.frame.DataFrame'>\n",
      "RangeIndex: 119390 entries, 0 to 119389\n",
      "Data columns (total 32 columns):\n",
      " #   Column                          Non-Null Count   Dtype  \n",
      "---  ------                          --------------   -----  \n",
      " 0   hotel                           119390 non-null  object \n",
      " 1   is_canceled                     119390 non-null  int64  \n",
      " 2   lead_time                       119390 non-null  int64  \n",
      " 3   arrival_date_year               119390 non-null  int64  \n",
      " 4   arrival_date_month              119390 non-null  object \n",
      " 5   arrival_date_week_number        119390 non-null  int64  \n",
      " 6   arrival_date_day_of_month       119390 non-null  int64  \n",
      " 7   stays_in_weekend_nights         119390 non-null  int64  \n",
      " 8   stays_in_week_nights            119390 non-null  int64  \n",
      " 9   adults                          119390 non-null  int64  \n",
      " 10  children                        119386 non-null  float64\n",
      " 11  babies                          119390 non-null  int64  \n",
      " 12  meal                            119390 non-null  object \n",
      " 13  country                         118902 non-null  object \n",
      " 14  market_segment                  119390 non-null  object \n",
      " 15  distribution_channel            119390 non-null  object \n",
      " 16  is_repeated_guest               119390 non-null  int64  \n",
      " 17  previous_cancellations          119390 non-null  int64  \n",
      " 18  previous_bookings_not_canceled  119390 non-null  int64  \n",
      " 19  reserved_room_type              119390 non-null  object \n",
      " 20  assigned_room_type              119390 non-null  object \n",
      " 21  booking_changes                 119390 non-null  int64  \n",
      " 22  deposit_type                    119390 non-null  object \n",
      " 23  agent                           103050 non-null  float64\n",
      " 24  company                         6797 non-null    float64\n",
      " 25  days_in_waiting_list            119390 non-null  int64  \n",
      " 26  customer_type                   119390 non-null  object \n",
      " 27  adr                             119390 non-null  float64\n",
      " 28  required_car_parking_spaces     119390 non-null  int64  \n",
      " 29  total_of_special_requests       119390 non-null  int64  \n",
      " 30  reservation_status              119390 non-null  object \n",
      " 31  reservation_status_date         119390 non-null  object \n",
      "dtypes: float64(4), int64(16), object(12)\n",
      "memory usage: 29.1+ MB\n"
     ]
    }
   ],
   "source": [
    "df.info()"
   ]
  },
  {
   "cell_type": "code",
   "execution_count": 388,
   "metadata": {
    "colab": {
     "base_uri": "https://localhost:8080/",
     "height": 85
    },
    "colab_type": "code",
    "executionInfo": {
     "elapsed": 2255,
     "status": "ok",
     "timestamp": 1595132335250,
     "user": {
      "displayName": "Jon Rivera",
      "photoUrl": "",
      "userId": "04289059324986777864"
     },
     "user_tz": 420
    },
    "id": "wDAV3ROeHjHz",
    "outputId": "f6416fdf-f8de-4872-c5f8-5435787f139c"
   },
   "outputs": [
    {
     "data": {
      "text/plain": [
       "0         False\n",
       "1         False\n",
       "2         False\n",
       "3         False\n",
       "4         False\n",
       "          ...  \n",
       "119385    False\n",
       "119386    False\n",
       "119387    False\n",
       "119388    False\n",
       "119389    False\n",
       "Name: reservation_status, Length: 119390, dtype: bool"
      ]
     },
     "execution_count": 388,
     "metadata": {},
     "output_type": "execute_result"
    }
   ],
   "source": [
    "\n",
    "df['reservation_status'] == 'No_how'"
   ]
  },
  {
   "cell_type": "code",
   "execution_count": 389,
   "metadata": {
    "colab": {},
    "colab_type": "code",
    "executionInfo": {
     "elapsed": 2697,
     "status": "ok",
     "timestamp": 1595132335695,
     "user": {
      "displayName": "Jon Rivera",
      "photoUrl": "",
      "userId": "04289059324986777864"
     },
     "user_tz": 420
    },
    "id": "P_dJOCPTIUys"
   },
   "outputs": [],
   "source": [
    "\n",
    "def wrangle(df):\n",
    "    df = df.copy()\n",
    "    #drop unecessary columns, or columns that seem to have little impact on target\n",
    "    df = df.drop(['company', 'agent','arrival_date_week_number'],axis = 1)\n",
    "    df = df.dropna(axis=0)  \n",
    "    #set date column to index\n",
    "    #doesn't add any substantial info, and has high cardinality. \n",
    "    #arrivate_date year,month, day already include this info ..\n",
    "    df.set_index(pd.to_datetime(df['reservation_status_date']), inplace = True)\n",
    "    df = df.drop(['reservation_status_date'], axis=1)\n",
    "    #I am treating cancelations as people who canceled or did not show\n",
    "    #on there arrival date --- it was assumend the hotel would cancel there stay \n",
    "    \n",
    "    df['reservation_status'] =  df['reservation_status'].replace({'No-Show':'Canceled'})\n",
    "    return df\n",
    "df = wrangle(df)\n"
   ]
  },
  {
   "cell_type": "markdown",
   "metadata": {
    "colab_type": "text",
    "id": "3o08GjXIuOxx"
   },
   "source": [
    "#predicting wheather a hotel will experience cancellations or not\n",
    "#goal: make an app hotels can use to determine wheather or not they will experience cancellations\n"
   ]
  },
  {
   "cell_type": "code",
   "execution_count": 390,
   "metadata": {
    "colab": {},
    "colab_type": "code",
    "executionInfo": {
     "elapsed": 2695,
     "status": "ok",
     "timestamp": 1595132335696,
     "user": {
      "displayName": "Jon Rivera",
      "photoUrl": "",
      "userId": "04289059324986777864"
     },
     "user_tz": 420
    },
    "id": "_iQaPQlfHVxV"
   },
   "outputs": [
    {
     "data": {
      "text/plain": [
       "((21859, 28), (56435, 28), (40604, 28))"
      ]
     },
     "execution_count": 390,
     "metadata": {},
     "output_type": "execute_result"
    }
   ],
   "source": [
    "#get train, validate,and test subsets\n",
    "train = df[df['arrival_date_year']==2015].copy()\n",
    "val = df[df['arrival_date_year']==2016].copy()\n",
    "test = df[df['arrival_date_year'] == 2017].copy()\n",
    "train.shape, val.shape, test.shape"
   ]
  },
  {
   "cell_type": "code",
   "execution_count": 391,
   "metadata": {},
   "outputs": [
    {
     "data": {
      "text/html": [
       "<div>\n",
       "<style scoped>\n",
       "    .dataframe tbody tr th:only-of-type {\n",
       "        vertical-align: middle;\n",
       "    }\n",
       "\n",
       "    .dataframe tbody tr th {\n",
       "        vertical-align: top;\n",
       "    }\n",
       "\n",
       "    .dataframe thead th {\n",
       "        text-align: right;\n",
       "    }\n",
       "</style>\n",
       "<table border=\"1\" class=\"dataframe\">\n",
       "  <thead>\n",
       "    <tr style=\"text-align: right;\">\n",
       "      <th></th>\n",
       "      <th>hotel</th>\n",
       "      <th>is_canceled</th>\n",
       "      <th>lead_time</th>\n",
       "      <th>arrival_date_year</th>\n",
       "      <th>arrival_date_month</th>\n",
       "      <th>arrival_date_day_of_month</th>\n",
       "      <th>stays_in_weekend_nights</th>\n",
       "      <th>stays_in_week_nights</th>\n",
       "      <th>adults</th>\n",
       "      <th>children</th>\n",
       "      <th>...</th>\n",
       "      <th>reserved_room_type</th>\n",
       "      <th>assigned_room_type</th>\n",
       "      <th>booking_changes</th>\n",
       "      <th>deposit_type</th>\n",
       "      <th>days_in_waiting_list</th>\n",
       "      <th>customer_type</th>\n",
       "      <th>adr</th>\n",
       "      <th>required_car_parking_spaces</th>\n",
       "      <th>total_of_special_requests</th>\n",
       "      <th>reservation_status</th>\n",
       "    </tr>\n",
       "    <tr>\n",
       "      <th>reservation_status_date</th>\n",
       "      <th></th>\n",
       "      <th></th>\n",
       "      <th></th>\n",
       "      <th></th>\n",
       "      <th></th>\n",
       "      <th></th>\n",
       "      <th></th>\n",
       "      <th></th>\n",
       "      <th></th>\n",
       "      <th></th>\n",
       "      <th></th>\n",
       "      <th></th>\n",
       "      <th></th>\n",
       "      <th></th>\n",
       "      <th></th>\n",
       "      <th></th>\n",
       "      <th></th>\n",
       "      <th></th>\n",
       "      <th></th>\n",
       "      <th></th>\n",
       "      <th></th>\n",
       "    </tr>\n",
       "  </thead>\n",
       "  <tbody>\n",
       "    <tr>\n",
       "      <th>2015-07-01</th>\n",
       "      <td>Resort Hotel</td>\n",
       "      <td>0</td>\n",
       "      <td>342</td>\n",
       "      <td>2015</td>\n",
       "      <td>July</td>\n",
       "      <td>1</td>\n",
       "      <td>0</td>\n",
       "      <td>0</td>\n",
       "      <td>2</td>\n",
       "      <td>0.0</td>\n",
       "      <td>...</td>\n",
       "      <td>C</td>\n",
       "      <td>C</td>\n",
       "      <td>3</td>\n",
       "      <td>No Deposit</td>\n",
       "      <td>0</td>\n",
       "      <td>Transient</td>\n",
       "      <td>0.0</td>\n",
       "      <td>0</td>\n",
       "      <td>0</td>\n",
       "      <td>Check-Out</td>\n",
       "    </tr>\n",
       "    <tr>\n",
       "      <th>2015-07-01</th>\n",
       "      <td>Resort Hotel</td>\n",
       "      <td>0</td>\n",
       "      <td>737</td>\n",
       "      <td>2015</td>\n",
       "      <td>July</td>\n",
       "      <td>1</td>\n",
       "      <td>0</td>\n",
       "      <td>0</td>\n",
       "      <td>2</td>\n",
       "      <td>0.0</td>\n",
       "      <td>...</td>\n",
       "      <td>C</td>\n",
       "      <td>C</td>\n",
       "      <td>4</td>\n",
       "      <td>No Deposit</td>\n",
       "      <td>0</td>\n",
       "      <td>Transient</td>\n",
       "      <td>0.0</td>\n",
       "      <td>0</td>\n",
       "      <td>0</td>\n",
       "      <td>Check-Out</td>\n",
       "    </tr>\n",
       "    <tr>\n",
       "      <th>2015-07-02</th>\n",
       "      <td>Resort Hotel</td>\n",
       "      <td>0</td>\n",
       "      <td>7</td>\n",
       "      <td>2015</td>\n",
       "      <td>July</td>\n",
       "      <td>1</td>\n",
       "      <td>0</td>\n",
       "      <td>1</td>\n",
       "      <td>1</td>\n",
       "      <td>0.0</td>\n",
       "      <td>...</td>\n",
       "      <td>A</td>\n",
       "      <td>C</td>\n",
       "      <td>0</td>\n",
       "      <td>No Deposit</td>\n",
       "      <td>0</td>\n",
       "      <td>Transient</td>\n",
       "      <td>75.0</td>\n",
       "      <td>0</td>\n",
       "      <td>0</td>\n",
       "      <td>Check-Out</td>\n",
       "    </tr>\n",
       "    <tr>\n",
       "      <th>2015-07-02</th>\n",
       "      <td>Resort Hotel</td>\n",
       "      <td>0</td>\n",
       "      <td>13</td>\n",
       "      <td>2015</td>\n",
       "      <td>July</td>\n",
       "      <td>1</td>\n",
       "      <td>0</td>\n",
       "      <td>1</td>\n",
       "      <td>1</td>\n",
       "      <td>0.0</td>\n",
       "      <td>...</td>\n",
       "      <td>A</td>\n",
       "      <td>A</td>\n",
       "      <td>0</td>\n",
       "      <td>No Deposit</td>\n",
       "      <td>0</td>\n",
       "      <td>Transient</td>\n",
       "      <td>75.0</td>\n",
       "      <td>0</td>\n",
       "      <td>0</td>\n",
       "      <td>Check-Out</td>\n",
       "    </tr>\n",
       "    <tr>\n",
       "      <th>2015-07-03</th>\n",
       "      <td>Resort Hotel</td>\n",
       "      <td>0</td>\n",
       "      <td>14</td>\n",
       "      <td>2015</td>\n",
       "      <td>July</td>\n",
       "      <td>1</td>\n",
       "      <td>0</td>\n",
       "      <td>2</td>\n",
       "      <td>2</td>\n",
       "      <td>0.0</td>\n",
       "      <td>...</td>\n",
       "      <td>A</td>\n",
       "      <td>A</td>\n",
       "      <td>0</td>\n",
       "      <td>No Deposit</td>\n",
       "      <td>0</td>\n",
       "      <td>Transient</td>\n",
       "      <td>98.0</td>\n",
       "      <td>0</td>\n",
       "      <td>1</td>\n",
       "      <td>Check-Out</td>\n",
       "    </tr>\n",
       "  </tbody>\n",
       "</table>\n",
       "<p>5 rows × 28 columns</p>\n",
       "</div>"
      ],
      "text/plain": [
       "                                hotel  is_canceled  lead_time  \\\n",
       "reservation_status_date                                         \n",
       "2015-07-01               Resort Hotel            0        342   \n",
       "2015-07-01               Resort Hotel            0        737   \n",
       "2015-07-02               Resort Hotel            0          7   \n",
       "2015-07-02               Resort Hotel            0         13   \n",
       "2015-07-03               Resort Hotel            0         14   \n",
       "\n",
       "                         arrival_date_year arrival_date_month  \\\n",
       "reservation_status_date                                         \n",
       "2015-07-01                            2015               July   \n",
       "2015-07-01                            2015               July   \n",
       "2015-07-02                            2015               July   \n",
       "2015-07-02                            2015               July   \n",
       "2015-07-03                            2015               July   \n",
       "\n",
       "                         arrival_date_day_of_month  stays_in_weekend_nights  \\\n",
       "reservation_status_date                                                       \n",
       "2015-07-01                                       1                        0   \n",
       "2015-07-01                                       1                        0   \n",
       "2015-07-02                                       1                        0   \n",
       "2015-07-02                                       1                        0   \n",
       "2015-07-03                                       1                        0   \n",
       "\n",
       "                         stays_in_week_nights  adults  children  ...  \\\n",
       "reservation_status_date                                          ...   \n",
       "2015-07-01                                  0       2       0.0  ...   \n",
       "2015-07-01                                  0       2       0.0  ...   \n",
       "2015-07-02                                  1       1       0.0  ...   \n",
       "2015-07-02                                  1       1       0.0  ...   \n",
       "2015-07-03                                  2       2       0.0  ...   \n",
       "\n",
       "                         reserved_room_type assigned_room_type  \\\n",
       "reservation_status_date                                          \n",
       "2015-07-01                                C                  C   \n",
       "2015-07-01                                C                  C   \n",
       "2015-07-02                                A                  C   \n",
       "2015-07-02                                A                  A   \n",
       "2015-07-03                                A                  A   \n",
       "\n",
       "                        booking_changes deposit_type days_in_waiting_list  \\\n",
       "reservation_status_date                                                     \n",
       "2015-07-01                            3   No Deposit                    0   \n",
       "2015-07-01                            4   No Deposit                    0   \n",
       "2015-07-02                            0   No Deposit                    0   \n",
       "2015-07-02                            0   No Deposit                    0   \n",
       "2015-07-03                            0   No Deposit                    0   \n",
       "\n",
       "                         customer_type   adr  required_car_parking_spaces  \\\n",
       "reservation_status_date                                                     \n",
       "2015-07-01                   Transient   0.0                            0   \n",
       "2015-07-01                   Transient   0.0                            0   \n",
       "2015-07-02                   Transient  75.0                            0   \n",
       "2015-07-02                   Transient  75.0                            0   \n",
       "2015-07-03                   Transient  98.0                            0   \n",
       "\n",
       "                        total_of_special_requests reservation_status  \n",
       "reservation_status_date                                               \n",
       "2015-07-01                                      0          Check-Out  \n",
       "2015-07-01                                      0          Check-Out  \n",
       "2015-07-02                                      0          Check-Out  \n",
       "2015-07-02                                      0          Check-Out  \n",
       "2015-07-03                                      1          Check-Out  \n",
       "\n",
       "[5 rows x 28 columns]"
      ]
     },
     "execution_count": 391,
     "metadata": {},
     "output_type": "execute_result"
    }
   ],
   "source": [
    "train.head()"
   ]
  },
  {
   "cell_type": "code",
   "execution_count": 392,
   "metadata": {},
   "outputs": [
    {
     "data": {
      "text/html": [
       "<div>\n",
       "<style scoped>\n",
       "    .dataframe tbody tr th:only-of-type {\n",
       "        vertical-align: middle;\n",
       "    }\n",
       "\n",
       "    .dataframe tbody tr th {\n",
       "        vertical-align: top;\n",
       "    }\n",
       "\n",
       "    .dataframe thead th {\n",
       "        text-align: right;\n",
       "    }\n",
       "</style>\n",
       "<table border=\"1\" class=\"dataframe\">\n",
       "  <thead>\n",
       "    <tr style=\"text-align: right;\">\n",
       "      <th></th>\n",
       "      <th>hotel</th>\n",
       "      <th>arrival_date_month</th>\n",
       "      <th>meal</th>\n",
       "      <th>country</th>\n",
       "      <th>market_segment</th>\n",
       "      <th>distribution_channel</th>\n",
       "      <th>reserved_room_type</th>\n",
       "      <th>assigned_room_type</th>\n",
       "      <th>deposit_type</th>\n",
       "      <th>customer_type</th>\n",
       "      <th>reservation_status</th>\n",
       "    </tr>\n",
       "  </thead>\n",
       "  <tbody>\n",
       "    <tr>\n",
       "      <th>count</th>\n",
       "      <td>21859</td>\n",
       "      <td>21859</td>\n",
       "      <td>21859</td>\n",
       "      <td>21859</td>\n",
       "      <td>21859</td>\n",
       "      <td>21859</td>\n",
       "      <td>21859</td>\n",
       "      <td>21859</td>\n",
       "      <td>21859</td>\n",
       "      <td>21859</td>\n",
       "      <td>21859</td>\n",
       "    </tr>\n",
       "    <tr>\n",
       "      <th>unique</th>\n",
       "      <td>2</td>\n",
       "      <td>6</td>\n",
       "      <td>5</td>\n",
       "      <td>98</td>\n",
       "      <td>6</td>\n",
       "      <td>5</td>\n",
       "      <td>9</td>\n",
       "      <td>11</td>\n",
       "      <td>3</td>\n",
       "      <td>4</td>\n",
       "      <td>2</td>\n",
       "    </tr>\n",
       "    <tr>\n",
       "      <th>top</th>\n",
       "      <td>City Hotel</td>\n",
       "      <td>September</td>\n",
       "      <td>BB</td>\n",
       "      <td>PRT</td>\n",
       "      <td>Online TA</td>\n",
       "      <td>TA/TO</td>\n",
       "      <td>A</td>\n",
       "      <td>A</td>\n",
       "      <td>No Deposit</td>\n",
       "      <td>Transient</td>\n",
       "      <td>Check-Out</td>\n",
       "    </tr>\n",
       "    <tr>\n",
       "      <th>freq</th>\n",
       "      <td>13663</td>\n",
       "      <td>5084</td>\n",
       "      <td>17106</td>\n",
       "      <td>13303</td>\n",
       "      <td>6148</td>\n",
       "      <td>17691</td>\n",
       "      <td>17614</td>\n",
       "      <td>14376</td>\n",
       "      <td>18202</td>\n",
       "      <td>11319</td>\n",
       "      <td>13753</td>\n",
       "    </tr>\n",
       "  </tbody>\n",
       "</table>\n",
       "</div>"
      ],
      "text/plain": [
       "             hotel arrival_date_month   meal country market_segment  \\\n",
       "count        21859              21859  21859   21859          21859   \n",
       "unique           2                  6      5      98              6   \n",
       "top     City Hotel          September     BB     PRT      Online TA   \n",
       "freq         13663               5084  17106   13303           6148   \n",
       "\n",
       "       distribution_channel reserved_room_type assigned_room_type  \\\n",
       "count                 21859              21859              21859   \n",
       "unique                    5                  9                 11   \n",
       "top                   TA/TO                  A                  A   \n",
       "freq                  17691              17614              14376   \n",
       "\n",
       "       deposit_type customer_type reservation_status  \n",
       "count         21859         21859              21859  \n",
       "unique            3             4                  2  \n",
       "top      No Deposit     Transient          Check-Out  \n",
       "freq          18202         11319              13753  "
      ]
     },
     "execution_count": 392,
     "metadata": {},
     "output_type": "execute_result"
    }
   ],
   "source": [
    "train.describe(exclude='number')"
   ]
  },
  {
   "cell_type": "code",
   "execution_count": 393,
   "metadata": {},
   "outputs": [
    {
     "data": {
      "text/plain": [
       "['lead_time',\n",
       " 'arrival_date_year',\n",
       " 'arrival_date_day_of_month',\n",
       " 'stays_in_weekend_nights',\n",
       " 'stays_in_week_nights',\n",
       " 'adults',\n",
       " 'children',\n",
       " 'babies',\n",
       " 'is_repeated_guest',\n",
       " 'previous_cancellations',\n",
       " 'previous_bookings_not_canceled',\n",
       " 'booking_changes',\n",
       " 'days_in_waiting_list',\n",
       " 'adr',\n",
       " 'required_car_parking_spaces',\n",
       " 'total_of_special_requests',\n",
       " 'hotel',\n",
       " 'arrival_date_month',\n",
       " 'meal',\n",
       " 'country',\n",
       " 'market_segment',\n",
       " 'distribution_channel',\n",
       " 'reserved_room_type',\n",
       " 'assigned_room_type',\n",
       " 'deposit_type',\n",
       " 'customer_type']"
      ]
     },
     "execution_count": 393,
     "metadata": {},
     "output_type": "execute_result"
    }
   ],
   "source": [
    "#feature selection\n",
    "# is_canceled is also a target vector, reveals reservation_status implicitly ... is leaking information of target\n",
    "def features_select(df):    \n",
    "    target = 'reservation_status'\n",
    "    #creating subsets of features, splitted between numerical and categorical\n",
    "    train_features =  df.drop(columns = [target, 'is_canceled'],axis =1)\n",
    "    numeric_features = train_features.select_dtypes(include='number').columns.tolist()\n",
    "    cardinality = train_features.select_dtypes(exclude = 'number').nunique()\n",
    "    categorical_features = cardinality.index.tolist()\n",
    "    #combine lists to extrapolate features of interest\n",
    "    features = numeric_features + categorical_features\n",
    "    return features\n",
    "features = features_select(df)\n",
    "features"
   ]
  },
  {
   "cell_type": "code",
   "execution_count": 394,
   "metadata": {},
   "outputs": [],
   "source": [
    "#def feature_engineering(X):"
   ]
  },
  {
   "cell_type": "code",
   "execution_count": 395,
   "metadata": {},
   "outputs": [
    {
     "data": {
      "text/plain": [
       "((21859, 26), (21859,), (56435, 26), (56435,))"
      ]
     },
     "execution_count": 395,
     "metadata": {},
     "output_type": "execute_result"
    }
   ],
   "source": [
    "#seperating X matrices and correspind y vectors\n",
    "target = 'reservation_status'\n",
    "X_train = train[features]\n",
    "y_train = train[target]\n",
    "X_test = test[features]\n",
    "y_test = test[target]\n",
    "X_val= val[features]\n",
    "y_val = val[target]\n",
    "X_train.shape,y_train.shape,X_val.shape, y_val.shape"
   ]
  },
  {
   "cell_type": "code",
   "execution_count": 396,
   "metadata": {},
   "outputs": [
    {
     "data": {
      "text/plain": [
       "Check-Out    0.629169\n",
       "Canceled     0.370831\n",
       "Name: reservation_status, dtype: float64"
      ]
     },
     "execution_count": 396,
     "metadata": {},
     "output_type": "execute_result"
    }
   ],
   "source": [
    "#baselines\n",
    "y_train.value_counts(normalize=True)\n"
   ]
  },
  {
   "cell_type": "code",
   "execution_count": 397,
   "metadata": {},
   "outputs": [
    {
     "data": {
      "text/plain": [
       "Check-Out    0.640064\n",
       "Canceled     0.359936\n",
       "Name: reservation_status, dtype: float64"
      ]
     },
     "execution_count": 397,
     "metadata": {},
     "output_type": "execute_result"
    }
   ],
   "source": [
    "y_val.value_counts(normalize=True)\n"
   ]
  },
  {
   "cell_type": "code",
   "execution_count": 398,
   "metadata": {},
   "outputs": [
    {
     "data": {
      "text/plain": [
       "Check-Out    13753\n",
       "Canceled      8106\n",
       "Name: reservation_status, dtype: int64"
      ]
     },
     "execution_count": 398,
     "metadata": {},
     "output_type": "execute_result"
    }
   ],
   "source": [
    "y_train.value_counts()"
   ]
  },
  {
   "cell_type": "code",
   "execution_count": 399,
   "metadata": {},
   "outputs": [
    {
     "data": {
      "text/plain": [
       "pandas.core.series.Series"
      ]
     },
     "execution_count": 399,
     "metadata": {},
     "output_type": "execute_result"
    }
   ],
   "source": [
    "type(y_train)"
   ]
  },
  {
   "cell_type": "code",
   "execution_count": 400,
   "metadata": {},
   "outputs": [
    {
     "data": {
      "text/plain": [
       "Check-Out    13753\n",
       "Canceled      8106\n",
       "Name: reservation_status, dtype: int64"
      ]
     },
     "execution_count": 400,
     "metadata": {},
     "output_type": "execute_result"
    }
   ],
   "source": [
    "y_train.value_counts()"
   ]
  },
  {
   "cell_type": "code",
   "execution_count": 401,
   "metadata": {},
   "outputs": [],
   "source": [
    "#instantitate classes\n",
    "from sklearn.tree import DecisionTreeClassifier\n",
    "from sklearn.ensemble import RandomForestClassifier\n",
    "import category_encoders as ce\n",
    "import numpy as np\n",
    "from sklearn.impute import SimpleImputer\n",
    "from sklearn.preprocessing import StandardScaler\n",
    "from sklearn.ensemble import RandomForestClassifier\n",
    "from category_encoders import OneHotEncoder, OrdinalEncoder\n",
    "from sklearn.pipeline import make_pipeline\n",
    "from sklearn.model_selection import RandomizedSearchCV"
   ]
  },
  {
   "cell_type": "code",
   "execution_count": 402,
   "metadata": {},
   "outputs": [
    {
     "data": {
      "text/plain": [
       "{'bootstrap': True,\n",
       " 'ccp_alpha': 0.0,\n",
       " 'class_weight': None,\n",
       " 'criterion': 'gini',\n",
       " 'max_depth': None,\n",
       " 'max_features': 'auto',\n",
       " 'max_leaf_nodes': None,\n",
       " 'max_samples': None,\n",
       " 'min_impurity_decrease': 0.0,\n",
       " 'min_impurity_split': None,\n",
       " 'min_samples_leaf': 1,\n",
       " 'min_samples_split': 2,\n",
       " 'min_weight_fraction_leaf': 0.0,\n",
       " 'n_estimators': 100,\n",
       " 'n_jobs': None,\n",
       " 'oob_score': False,\n",
       " 'random_state': None,\n",
       " 'verbose': 0,\n",
       " 'warm_start': False}"
      ]
     },
     "execution_count": 402,
     "metadata": {},
     "output_type": "execute_result"
    }
   ],
   "source": [
    "#identify hyper parameters before research cv\n",
    "RandomForestClassifier().get_params()"
   ]
  },
  {
   "cell_type": "code",
   "execution_count": 403,
   "metadata": {},
   "outputs": [],
   "source": [
    "#Build pipeline using RadnomSearchCV\n",
    "# from sklearn.model_selection import RandomizedSearchCV, GridSearchCV\n",
    "# pipeline = make_pipeline(\n",
    "#     ce.OrdinalEncoder(),\n",
    "#     SimpleImputer(strategy='mean'),\n",
    "#     RandomForestClassifier(n_jobs = -1, random_state=40)\n",
    "\n",
    "# )\n",
    "\n",
    "# param_distributions = { \n",
    "#     'randomforestclassifier__n_estimators': [100]\n",
    "#     'randomforestclassifier__criterion': ['gini', 'entropy'],\n",
    "#     'randomforestclassifier__max_features': [5,10,20],\n",
    "#     'randomforestclassifier__min_samples_split': [5,10,15,20],\n",
    "#     'randomforestclassifier__min_samples_leaf': [2]\n",
    "# }\n",
    "# search = RandomizedSearchCV(\n",
    "#     pipeline, \n",
    "#     param_distributions = param_distributions,\n",
    "#     n_iter = 10,\n",
    "#     cv=10,\n",
    "#     scoring ='accuracy',\n",
    "#     verbose = 1,\n",
    "#     return_train_score = True,\n",
    "#     n_jobs = -1\n",
    "# )\n",
    "\n",
    "# search.fit(X_train, y_train)\n",
    "# print('Cross-validation Best Score', search.best_score_)\n",
    "# print('Best Estimator:' ,search.best_params_)\n",
    "# print('Best Model', search.best_estimator_)"
   ]
  },
  {
   "cell_type": "code",
   "execution_count": 404,
   "metadata": {},
   "outputs": [
    {
     "data": {
      "text/plain": [
       "Pipeline(steps=[('ordinalencoder',\n",
       "                 OrdinalEncoder(cols=['hotel', 'arrival_date_month', 'meal',\n",
       "                                      'country', 'market_segment',\n",
       "                                      'distribution_channel',\n",
       "                                      'reserved_room_type',\n",
       "                                      'assigned_room_type', 'deposit_type',\n",
       "                                      'customer_type'],\n",
       "                                mapping=[{'col': 'hotel',\n",
       "                                          'data_type': dtype('O'),\n",
       "                                          'mapping': Resort Hotel    1\n",
       "City Hotel      2\n",
       "NaN            -2\n",
       "dtype: int64},\n",
       "                                         {'col': 'arrival_date_month',\n",
       "                                          'data_type...\n",
       "                                         {'col': 'deposit_type',\n",
       "                                          'data_type': dtype('O'),\n",
       "                                          'mapping': No Deposit    1\n",
       "Refundable    2\n",
       "Non Refund    3\n",
       "NaN          -2\n",
       "dtype: int64},\n",
       "                                         {'col': 'customer_type',\n",
       "                                          'data_type': dtype('O'),\n",
       "                                          'mapping': Transient          1\n",
       "Contract           2\n",
       "Transient-Party    3\n",
       "Group              4\n",
       "NaN               -2\n",
       "dtype: int64}])),\n",
       "                ('simpleimputer', SimpleImputer()),\n",
       "                ('randomforestclassifier',\n",
       "                 RandomForestClassifier(class_weight='balanced', n_jobs=-1,\n",
       "                                        random_state=40))])"
      ]
     },
     "execution_count": 404,
     "metadata": {},
     "output_type": "execute_result"
    }
   ],
   "source": [
    " model = make_pipeline(\n",
    "    ce.OrdinalEncoder(),\n",
    "    SimpleImputer(strategy='mean'),\n",
    "    RandomForestClassifier(n_jobs=-1, n_estimators = 100,random_state=40,class_weight = 'balanced'\n",
    ")\n",
    ")\n",
    "model.fit(X_train,y_train)\n"
   ]
  },
  {
   "cell_type": "markdown",
   "metadata": {},
   "source": [
    "Evaluation Metrics"
   ]
  },
  {
   "cell_type": "code",
   "execution_count": 405,
   "metadata": {},
   "outputs": [
    {
     "name": "stdout",
     "output_type": "stream",
     "text": [
      "Training Accuracy: 0.9919483965414704\n",
      "Validation Accuracy: 0.774962346061841\n"
     ]
    }
   ],
   "source": [
    "print('Training Accuracy:', model.score(X_train, y_train))\n",
    "print('Validation Accuracy:',model.score(X_val, y_val))\n"
   ]
  },
  {
   "cell_type": "code",
   "execution_count": 406,
   "metadata": {},
   "outputs": [],
   "source": [
    "from sklearn.metrics import plot_confusion_matrix, classification_report\n",
    "from sklearn.metrics import precision_score\n",
    "from sklearn.metrics import recall_score"
   ]
  },
  {
   "cell_type": "code",
   "execution_count": 407,
   "metadata": {},
   "outputs": [
    {
     "data": {
      "image/png": "[encoded data removed]",
      "text/plain": [
       "<Figure size 432x288 with 2 Axes>"
      ]
     },
     "metadata": {
      "needs_background": "light"
     },
     "output_type": "display_data"
    }
   ],
   "source": [
    "#From the confusion matrix we can see the model doesn't do a good job at classifying the minority class.\n",
    "plot_confusion_matrix(model, X_val, y_val, values_format='.0f', xticks_rotation='vertical');"
   ]
  },
  {
   "cell_type": "code",
   "execution_count": 408,
   "metadata": {},
   "outputs": [],
   "source": [
    "y_pred = model.predict(X_val)"
   ]
  },
  {
   "cell_type": "code",
   "execution_count": 409,
   "metadata": {},
   "outputs": [
    {
     "name": "stdout",
     "output_type": "stream",
     "text": [
      "              precision    recall  f1-score   support\n",
      "\n",
      "    Canceled       0.90      0.42      0.57     20313\n",
      "   Check-Out       0.75      0.97      0.85     36122\n",
      "\n",
      "    accuracy                           0.77     56435\n",
      "   macro avg       0.83      0.70      0.71     56435\n",
      "weighted avg       0.80      0.77      0.75     56435\n",
      "\n"
     ]
    }
   ],
   "source": [
    "print(classification_report(y_val, y_pred))"
   ]
  },
  {
   "cell_type": "code",
   "execution_count": 410,
   "metadata": {},
   "outputs": [
    {
     "data": {
      "text/plain": [
       "(56435,)"
      ]
     },
     "execution_count": 410,
     "metadata": {},
     "output_type": "execute_result"
    }
   ],
   "source": [
    "y_val.shape"
   ]
  },
  {
   "cell_type": "code",
   "execution_count": 411,
   "metadata": {},
   "outputs": [
    {
     "data": {
      "text/plain": [
       "56435"
      ]
     },
     "execution_count": 411,
     "metadata": {},
     "output_type": "execute_result"
    }
   ],
   "source": [
    "len(y_pred_probab)"
   ]
  },
  {
   "cell_type": "code",
   "execution_count": 412,
   "metadata": {},
   "outputs": [
    {
     "data": {
      "text/plain": [
       "0.7722215867163635"
      ]
     },
     "execution_count": 412,
     "metadata": {},
     "output_type": "execute_result"
    }
   ],
   "source": [
    "y_pred_probab = model.predict_proba(X_val)\n",
    "roc_auc_score(y_val,y_pred_probab[:,1])"
   ]
  },
  {
   "cell_type": "code",
   "execution_count": 413,
   "metadata": {},
   "outputs": [
    {
     "data": {
      "text/plain": [
       "0.2277783921591655"
      ]
     },
     "execution_count": 413,
     "metadata": {},
     "output_type": "execute_result"
    }
   ],
   "source": [
    "roc_auc_score(y_val,y_pred_probab[:,0])"
   ]
  },
  {
   "cell_type": "code",
   "execution_count": 414,
   "metadata": {},
   "outputs": [
    {
     "data": {
      "text/plain": [
       "reservation_status_date\n",
       "2015-07-01    Check-Out\n",
       "2015-07-01    Check-Out\n",
       "2015-07-02    Check-Out\n",
       "2015-07-02    Check-Out\n",
       "2015-07-03    Check-Out\n",
       "                ...    \n",
       "2015-08-26    Check-Out\n",
       "2015-10-16    Check-Out\n",
       "2015-12-13    Check-Out\n",
       "2015-12-17    Check-Out\n",
       "2015-10-03    Check-Out\n",
       "Name: reservation_status, Length: 21859, dtype: object"
      ]
     },
     "execution_count": 414,
     "metadata": {},
     "output_type": "execute_result"
    }
   ],
   "source": [
    "y_train"
   ]
  },
  {
   "cell_type": "code",
   "execution_count": 415,
   "metadata": {},
   "outputs": [
    {
     "data": {
      "text/plain": [
       "(array([[0],\n",
       "        [0],\n",
       "        [1],\n",
       "        ...,\n",
       "        [0],\n",
       "        [0],\n",
       "        [0]]),\n",
       " 1)"
      ]
     },
     "execution_count": 415,
     "metadata": {},
     "output_type": "execute_result"
    }
   ],
   "source": [
    "import numpy as np\n",
    "import matplotlib.pyplot as plt\n",
    "from itertools import cycle\n",
    "\n",
    "from sklearn import svm, datasets\n",
    "from sklearn.metrics import roc_curve, auc\n",
    "from sklearn.model_selection import train_test_split\n",
    "from sklearn.preprocessing import label_binarize\n",
    "from sklearn.multiclass import OneVsRestClassifier\n",
    "from scipy import interp\n",
    "from sklearn.metrics import roc_auc_score\n",
    "# Binarize the output\n",
    "y_train = label_binarize(y_train, classes=['Check-Out' , 'Canceled'])\n",
    "y_test = label_binarize(y_test, classes=['Check-Out' , 'Canceled'])\n",
    "y_val = label_binarize(y_val, classes=['Check-Out' , 'Canceled'])\n",
    "n_classes = y_train.shape[1]\n",
    "y_val, n_classes"
   ]
  },
  {
   "cell_type": "code",
   "execution_count": 416,
   "metadata": {},
   "outputs": [
    {
     "data": {
      "text/plain": [
       "array([[0.95, 0.05],\n",
       "       [0.99, 0.01],\n",
       "       [0.84, 0.16],\n",
       "       ...,\n",
       "       [0.97, 0.03],\n",
       "       [0.99, 0.01],\n",
       "       [0.99, 0.01]])"
      ]
     },
     "execution_count": 416,
     "metadata": {},
     "output_type": "execute_result"
    }
   ],
   "source": [
    "classifier = OneVsRestClassifier(model)\n",
    "y_score = classifier.fit(X_train, y_train).predict_proba(X_val)\n",
    "y_score"
   ]
  },
  {
   "cell_type": "code",
   "execution_count": 417,
   "metadata": {},
   "outputs": [
    {
     "data": {
      "text/plain": [
       "<function sklearn.metrics._ranking.roc_curve(y_true, y_score, *, pos_label=None, sample_weight=None, drop_intermediate=True)>"
      ]
     },
     "execution_count": 417,
     "metadata": {},
     "output_type": "execute_result"
    }
   ],
   "source": [
    "roc_curve"
   ]
  },
  {
   "cell_type": "code",
   "execution_count": 423,
   "metadata": {},
   "outputs": [],
   "source": [
    "# Compute ROC curve and ROC area for each class\n",
    "fpr = dict()\n",
    "tpr = dict()\n",
    "roc_auc = dict()\n",
    "for i in range(n_classes):\n",
    "    fpr[i], tpr[i], _ = roc_curve(y_val[:, i], y_score[:, i], pos_label = 0)\n",
    "    roc_auc[i] = auc(fpr[i], tpr[i])\n"
   ]
  },
  {
   "cell_type": "code",
   "execution_count": 424,
   "metadata": {},
   "outputs": [
    {
     "data": {
      "text/plain": [
       "{0: 0.7722215471931597}"
      ]
     },
     "execution_count": 424,
     "metadata": {},
     "output_type": "execute_result"
    }
   ],
   "source": [
    "roc_auc"
   ]
  },
  {
   "cell_type": "code",
   "execution_count": 425,
   "metadata": {},
   "outputs": [
    {
     "data": {
      "image/png": "[encoded data removed]",
      "text/plain": [
       "<Figure size 432x288 with 1 Axes>"
      ]
     },
     "metadata": {
      "needs_background": "light"
     },
     "output_type": "display_data"
    }
   ],
   "source": [
    "#code sckeleton built based on scikits examples in documentation\n",
    "plt.figure()\n",
    "plt.plot(fpr[0], tpr[0], color='darkorange', label='ROC curve (area = %0.2f)' % roc_auc[0])\n",
    "plt.plot([0, 1], [0, 1], color='navy', linestyle='--')\n",
    "plt.xlim([0.0, 1.0])\n",
    "plt.ylim([0.0, 1.05])\n",
    "plt.xlabel('False Positive Rate')\n",
    "plt.ylabel('True Positive Rate')\n",
    "plt.title('Receiver operating characteristic example')\n",
    "plt.legend(loc=\"lower right\")\n",
    "plt.show()"
   ]
  },
  {
   "cell_type": "code",
   "execution_count": null,
   "metadata": {},
   "outputs": [],
   "source": []
  }
 ],
 "metadata": {
  "colab": {
   "authorship_tag": "ABX9TyPactYknLX3iHF0M2qRXcRW",
   "collapsed_sections": [],
   "name": "LS_DS_231_assignment.ipynb",
   "provenance": []
  },
  "kernelspec": {
   "display_name": "Python 3",
   "language": "python",
   "name": "python3"
  },
  "language_info": {
   "codemirror_mode": {
    "name": "ipython",
    "version": 3
   },
   "file_extension": ".py",
   "mimetype": "text/x-python",
   "name": "python",
   "nbconvert_exporter": "python",
   "pygments_lexer": "ipython3",
   "version": "3.7.3"
  }
 },
 "nbformat": 4,
 "nbformat_minor": 4
}
