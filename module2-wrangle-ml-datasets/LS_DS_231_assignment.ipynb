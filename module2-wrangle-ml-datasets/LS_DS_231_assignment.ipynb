{
 "cells": [
  {
   "cell_type": "markdown",
   "metadata": {},
   "source": [
    "Lambda School Data Science\n",
    "\n",
    "*Unit 2, Sprint 3, Module 1*\n",
    "\n",
    "---\n",
    "#\n",
    "\n",
    "\n",
    "# Define ML problems\n",
    "\n",
    "You will use your portfolio project dataset for all assignments this sprint.\n",
    "\n",
    "## Assignment\n",
    "\n",
    "Complete these tasks for your project, and document your decisions.\n",
    "\n",
    "- [ ] Choose your target. Which column in your tabular dataset will you predict? X \n",
    "- [ ] Is your problem regression or classification? Classification X \n",
    "- [ ] How is your target distributed?\n",
    "    - Classification: How many classes? Are the classes imbalanced? Yes, the classes are imbalanced\n",
    "    \n",
    "    - Regression: Is the target right-skewed? If so, you may want to log transform the target.\n",
    "- [ ] Choose your evaluation metric(s).\n",
    "    - Classification: Is your majority class frequency >= 50% and < 70% ? If so, you can just use accuracy if you want. Outside that range, accuracy could be misleading. What evaluation metric will you choose, in addition to or instead of accuracy?\n",
    "    - Regression: Will you use mean absolute error, root mean squared error, R^2, or other regression metrics?\n",
    "- [ ] Choose which observations you will use to train, validate, and test your model.\n",
    "    - Are some observations outliers? Will you exclude them?\n",
    "    - Will you do a random split or a time-based split?\n",
    "- [ ] Begin to clean and explore your data.\n",
    "- [ ] Begin to choose which features, if any, to exclude. Would some features \"leak\" future information?\n",
    "\n",
    "If you haven't found a dataset yet, do that today. [Review requirements for your portfolio project](https://lambdaschool.github.io/ds/unit2) and choose your dataset.\n",
    "\n",
    "Some students worry, ***what if my model isn't “good”?*** Then, [produce a detailed tribute to your wrongness. That is science!](https://twitter.com/nathanwpyle/status/1176860147223867393)"
   ]
  },
  {
   "cell_type": "code",
   "execution_count": null,
   "metadata": {},
   "outputs": [],
   "source": [
    "#library versions\n",
    "!pip install -U scikit-learn\n",
    "!python -m pip show scikit-learn\n"
   ]
  },
  {
   "cell_type": "code",
   "execution_count": null,
   "metadata": {},
   "outputs": [],
   "source": [
    "#instantiate classes"
   ]
  },
  {
   "cell_type": "code",
   "execution_count": null,
   "metadata": {},
   "outputs": [],
   "source": [
    "#importing data\n",
    "import pandas as pd\n",
    "df = pd.read_csv(\"https://raw.githubusercontent.com/JonRivera/JonRivera.github.io/master/Unit2/Buil_Week/Data_Sets/Hotel_Bookings/hotel_bookings.csv\")"
   ]
  },
  {
   "cell_type": "code",
   "execution_count": null,
   "metadata": {
    "colab": {},
    "colab_type": "code",
    "id": "Or91Pw52UbaQ",
    "jupyter": {
     "source_hidden": true
    }
   },
   "outputs": [],
   "source": [
    "\n",
    "\n",
    "import pandas as pd\n",
    "df = pd.read_csv(\"https://raw.githubusercontent.com/JonRivera/JonRivera.github.io/master/Unit2/Buil_Week/Data_Sets/Hotel_Bookings/hotel_bookings.csv\")"
   ]
  },
  {
   "cell_type": "code",
   "execution_count": null,
   "metadata": {
    "colab": {
     "base_uri": "https://localhost:8080/",
     "height": 578
    },
    "colab_type": "code",
    "executionInfo": {
     "elapsed": 2293,
     "status": "ok",
     "timestamp": 1595132335247,
     "user": {
      "displayName": "Jon Rivera",
      "photoUrl": "",
      "userId": "04289059324986777864"
     },
     "user_tz": 420
    },
    "id": "ha2oylUS80fu",
    "outputId": "db372f71-2158-475d-bb11-a9cb9a7c7bd4"
   },
   "outputs": [],
   "source": [
    "df.isnull().sum()"
   ]
  },
  {
   "cell_type": "code",
   "execution_count": null,
   "metadata": {
    "colab": {
     "base_uri": "https://localhost:8080/",
     "height": 680
    },
    "colab_type": "code",
    "executionInfo": {
     "elapsed": 2267,
     "status": "ok",
     "timestamp": 1595132335249,
     "user": {
      "displayName": "Jon Rivera",
      "photoUrl": "",
      "userId": "04289059324986777864"
     },
     "user_tz": 420
    },
    "id": "ml2_py5btxk1",
    "outputId": "39f798e4-e159-4bab-8278-801ee64c6759"
   },
   "outputs": [],
   "source": [
    "df.info()"
   ]
  },
  {
   "cell_type": "code",
   "execution_count": null,
   "metadata": {
    "colab": {
     "base_uri": "https://localhost:8080/",
     "height": 85
    },
    "colab_type": "code",
    "executionInfo": {
     "elapsed": 2255,
     "status": "ok",
     "timestamp": 1595132335250,
     "user": {
      "displayName": "Jon Rivera",
      "photoUrl": "",
      "userId": "04289059324986777864"
     },
     "user_tz": 420
    },
    "id": "wDAV3ROeHjHz",
    "outputId": "f6416fdf-f8de-4872-c5f8-5435787f139c"
   },
   "outputs": [],
   "source": [
    "\n",
    "df.head()"
   ]
  },
  {
   "cell_type": "code",
   "execution_count": null,
   "metadata": {
    "colab": {},
    "colab_type": "code",
    "executionInfo": {
     "elapsed": 2697,
     "status": "ok",
     "timestamp": 1595132335695,
     "user": {
      "displayName": "Jon Rivera",
      "photoUrl": "",
      "userId": "04289059324986777864"
     },
     "user_tz": 420
    },
    "id": "P_dJOCPTIUys"
   },
   "outputs": [],
   "source": [
    "\n",
    "def wrangle(df):\n",
    "    df = df.copy()\n",
    "    #drop unecessary columns, or columns that seem to have little impact on target\n",
    "    df = df.drop(['company', 'agent','arrival_date_week_number'],axis = 1)\n",
    "    df = df.dropna(axis=0)  \n",
    "    #set date column to index\n",
    "    #doesn't add any substantial info, and has high cardinality. \n",
    "    #arrivate_date year,month, day already include this info ..\n",
    "    df.set_index(pd.to_datetime(df['reservation_status_date']), inplace = True)\n",
    "    df = df.drop(['reservation_status_date'], axis=1)\n",
    "    df['reservation_status'] =  df['reservation_status'].replace({'No-Show':'Canceled'})\n",
    "    return df\n",
    "df = wrangle(df)\n"
   ]
  },
  {
   "cell_type": "markdown",
   "metadata": {
    "colab_type": "text",
    "id": "3o08GjXIuOxx"
   },
   "source": [
    "#predicting wheather a hotel will experience cancellations or not\n",
    "#goal: make an app hotels can use to determine wheather or not they will experience cancellations\n"
   ]
  },
  {
   "cell_type": "code",
   "execution_count": null,
   "metadata": {
    "colab": {},
    "colab_type": "code",
    "executionInfo": {
     "elapsed": 2695,
     "status": "ok",
     "timestamp": 1595132335696,
     "user": {
      "displayName": "Jon Rivera",
      "photoUrl": "",
      "userId": "04289059324986777864"
     },
     "user_tz": 420
    },
    "id": "_iQaPQlfHVxV"
   },
   "outputs": [],
   "source": [
    "#get train, validate,and test subsets\n",
    "train = df[df['arrival_date_year']==2015].copy()\n",
    "val = df[df['arrival_date_year']==2016].copy()\n",
    "test = df[df['arrival_date_year'] == 2017].copy()\n",
    "train.shape, val.shape, test.shape"
   ]
  },
  {
   "cell_type": "code",
   "execution_count": null,
   "metadata": {},
   "outputs": [],
   "source": [
    "train.head()"
   ]
  },
  {
   "cell_type": "code",
   "execution_count": null,
   "metadata": {},
   "outputs": [],
   "source": [
    "train.describe(exclude='number')"
   ]
  },
  {
   "cell_type": "code",
   "execution_count": null,
   "metadata": {},
   "outputs": [],
   "source": [
    "#feature selection\n",
    "# is_canceled is also a target vector, reveals reservation_status implicitly ... is leaking information of target\n",
    "def features_select(df):    \n",
    "    target = 'reservation_status'\n",
    "    #creating subsets of features, splitted between numerical and categorical\n",
    "    train_features =  df.drop(columns = [target, 'is_canceled'],axis =1)\n",
    "    numeric_features = train_features.select_dtypes(include='number').columns.tolist()\n",
    "    cardinality = train_features.select_dtypes(exclude = 'number').nunique()\n",
    "    categorical_features = cardinality.index.tolist()\n",
    "    #combine lists to extrapolate features of interest\n",
    "    features = numeric_features + categorical_features\n",
    "    return features\n",
    "features = features_select(df)\n",
    "features"
   ]
  },
  {
   "cell_type": "code",
   "execution_count": null,
   "metadata": {},
   "outputs": [],
   "source": [
    "#def feature_engineering(X):"
   ]
  },
  {
   "cell_type": "code",
   "execution_count": null,
   "metadata": {},
   "outputs": [],
   "source": [
    "#seperating X matrices and correspind y vectors\n",
    "target = 'reservation_status'\n",
    "X_train = train[features]\n",
    "y_train = train[target]\n",
    "X_test = test[features]\n",
    "y_test = test[target]\n",
    "X_val= val[features]\n",
    "y_val = val[target]\n",
    "X_train.shape,y_train.shape,X_val.shape, y_val.shape"
   ]
  },
  {
   "cell_type": "code",
   "execution_count": null,
   "metadata": {},
   "outputs": [],
   "source": [
    "#baselines\n",
    "y_train.value_counts(normalize=True)\n"
   ]
  },
  {
   "cell_type": "code",
   "execution_count": null,
   "metadata": {},
   "outputs": [],
   "source": [
    "y_val.value_counts(normalize=True)\n"
   ]
  },
  {
   "cell_type": "code",
   "execution_count": null,
   "metadata": {},
   "outputs": [],
   "source": [
    "y_train"
   ]
  },
  {
   "cell_type": "code",
   "execution_count": null,
   "metadata": {},
   "outputs": [],
   "source": [
    "type(y_train)"
   ]
  },
  {
   "cell_type": "code",
   "execution_count": null,
   "metadata": {},
   "outputs": [],
   "source": [
    "from sklearn.utils import resample\n",
    "unsample_min_class = resample(minority_class,\n",
    "                          replace=True, # sample with replacement\n",
    "                          n_samples=len(minority_class), # match number in majority class\n",
    "                          random_state=42) # reproducible results\n",
    "\n"
   ]
  },
  {
   "cell_type": "code",
   "execution_count": null,
   "metadata": {},
   "outputs": [],
   "source": [
    "#instantitate classes\n",
    "from sklearn.tree import DecisionTreeClassifier\n",
    "from sklearn.ensemble import RandomForestClassifier\n",
    "import category_encoders as ce\n",
    "import numpy as np\n",
    "from sklearn.impute import SimpleImputer\n",
    "from sklearn.preprocessing import StandardScaler\n",
    "from sklearn.ensemble import RandomForestClassifier\n",
    "from category_encoders import OneHotEncoder, OrdinalEncoder\n",
    "from sklearn.pipeline import make_pipeline\n",
    "from sklearn.model_selection import RandomizedSearchCV"
   ]
  },
  {
   "cell_type": "code",
   "execution_count": null,
   "metadata": {},
   "outputs": [],
   "source": [
    "#identify hyper parameters before research cv\n",
    "RandomForestClassifier().get_params()"
   ]
  },
  {
   "cell_type": "code",
   "execution_count": null,
   "metadata": {},
   "outputs": [],
   "source": [
    " model = make_pipeline(\n",
    "    ce.OrdinalEncoder(),\n",
    "    SimpleImputer(strategy='mean'),\n",
    "    RandomForestClassifier(n_jobs=-1, random_state=40)\n",
    "\n",
    ")\n",
    "model.fit(X_train,y_train)\n"
   ]
  },
  {
   "cell_type": "markdown",
   "metadata": {},
   "source": [
    "Evaluation Metrics"
   ]
  },
  {
   "cell_type": "code",
   "execution_count": null,
   "metadata": {},
   "outputs": [],
   "source": [
    "print('Training Accuracy:', model.score(X_train, y_train))\n",
    "print('Validation Accuracy:',model.score(X_val, y_val))\n"
   ]
  },
  {
   "cell_type": "code",
   "execution_count": null,
   "metadata": {},
   "outputs": [],
   "source": [
    "from sklearn.metrics import roc_auc_score\n",
    "# The roc auc score  is telling us that the model does an ok job at ranking \n",
    "# True positive out puts, in this case it's check out\n",
    "#however looking at the confusion matrix we can see the minority class\n",
    "#\n",
    "y_pred_probab = model.predict_proba(X_val)\n",
    "roc_auc_score(y_val,y_pred_probab, multi_class = 'ovo',average='weighted')\n"
   ]
  },
  {
   "cell_type": "code",
   "execution_count": null,
   "metadata": {},
   "outputs": [],
   "source": [
    "from sklearn.metrics import plot_confusion_matrix, classification_report\n",
    "from sklearn.metrics import precision_score\n",
    "from sklearn.metrics import recall_score"
   ]
  },
  {
   "cell_type": "code",
   "execution_count": null,
   "metadata": {},
   "outputs": [],
   "source": [
    "#From the confusion matrix we can see the model doesn't do a good job at classifying the minority class.\n",
    "plot_confusion_matrix(model, X_val, y_val, values_format='.0f', xticks_rotation='vertical');"
   ]
  },
  {
   "cell_type": "code",
   "execution_count": null,
   "metadata": {},
   "outputs": [],
   "source": [
    "y_pred = model.predict(X_train)"
   ]
  },
  {
   "cell_type": "code",
   "execution_count": null,
   "metadata": {},
   "outputs": [],
   "source": [
    "print(classification_report(y_train, y_pred))"
   ]
  },
  {
   "cell_type": "code",
   "execution_count": null,
   "metadata": {},
   "outputs": [],
   "source": [
    "y_pred = model.predict(X_val)\n",
    "print(classification_report(y_val, y_pred))"
   ]
  }
 ],
 "metadata": {
  "colab": {
   "authorship_tag": "ABX9TyPactYknLX3iHF0M2qRXcRW",
   "collapsed_sections": [],
   "name": "LS_DS_231_assignment.ipynb",
   "provenance": []
  },
  "kernelspec": {
   "display_name": "Python 3",
   "language": "python",
   "name": "python3"
  },
  "language_info": {
   "codemirror_mode": {
    "name": "ipython",
    "version": 3
   },
   "file_extension": ".py",
   "mimetype": "text/x-python",
   "name": "python",
   "nbconvert_exporter": "python",
   "pygments_lexer": "ipython3",
   "version": "3.7.3"
  }
 },
 "nbformat": 4,
 "nbformat_minor": 4
}
